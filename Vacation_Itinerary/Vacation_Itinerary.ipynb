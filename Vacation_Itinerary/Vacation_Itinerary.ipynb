{
 "cells": [
  {
   "cell_type": "markdown",
   "metadata": {},
   "source": [
    "## Deliverable 3. Create a Travel Itinerary Map."
   ]
  },
  {
   "cell_type": "code",
   "execution_count": 3,
   "metadata": {},
   "outputs": [],
   "source": [
    "# Dependencies and Setup\n",
    "import pandas as pd\n",
    "import requests\n",
    "import gmaps\n",
    "\n",
    "# Import API key\n",
    "from config import g_key\n",
    "\n",
    "# Configure gmaps\n",
    "gmaps.configure(api_key=g_key)"
   ]
  },
  {
   "cell_type": "code",
   "execution_count": 5,
   "metadata": {},
   "outputs": [
    {
     "output_type": "execute_result",
     "data": {
      "text/plain": [
       "   City_ID           City Country  Max Temp Current Description      Lat  \\\n",
       "0        8        Mataura      NZ     71.98     overcast clouds -46.1927   \n",
       "1       12  Daniel Flores      CR     70.14     overcast clouds   9.3355   \n",
       "2       18     Vila Velha      BR     78.80          few clouds -20.3297   \n",
       "3       24      Busselton      AU     79.00           clear sky -33.6500   \n",
       "4       27          Bryan      US     71.60           clear sky  30.6744   \n",
       "\n",
       "        Lng                                  Hotel Name  \n",
       "0  168.8643                               Ellie's Villa  \n",
       "1  -83.6694                            Hotel San Isidro  \n",
       "2  -40.2925                        Hotel Vitória Palace  \n",
       "3  115.3333                     Observatory Guest House  \n",
       "4  -96.3700  Best Western Premier Bryan College Station  "
      ],
      "text/html": "<div>\n<style scoped>\n    .dataframe tbody tr th:only-of-type {\n        vertical-align: middle;\n    }\n\n    .dataframe tbody tr th {\n        vertical-align: top;\n    }\n\n    .dataframe thead th {\n        text-align: right;\n    }\n</style>\n<table border=\"1\" class=\"dataframe\">\n  <thead>\n    <tr style=\"text-align: right;\">\n      <th></th>\n      <th>City_ID</th>\n      <th>City</th>\n      <th>Country</th>\n      <th>Max Temp</th>\n      <th>Current Description</th>\n      <th>Lat</th>\n      <th>Lng</th>\n      <th>Hotel Name</th>\n    </tr>\n  </thead>\n  <tbody>\n    <tr>\n      <th>0</th>\n      <td>8</td>\n      <td>Mataura</td>\n      <td>NZ</td>\n      <td>71.98</td>\n      <td>overcast clouds</td>\n      <td>-46.1927</td>\n      <td>168.8643</td>\n      <td>Ellie's Villa</td>\n    </tr>\n    <tr>\n      <th>1</th>\n      <td>12</td>\n      <td>Daniel Flores</td>\n      <td>CR</td>\n      <td>70.14</td>\n      <td>overcast clouds</td>\n      <td>9.3355</td>\n      <td>-83.6694</td>\n      <td>Hotel San Isidro</td>\n    </tr>\n    <tr>\n      <th>2</th>\n      <td>18</td>\n      <td>Vila Velha</td>\n      <td>BR</td>\n      <td>78.80</td>\n      <td>few clouds</td>\n      <td>-20.3297</td>\n      <td>-40.2925</td>\n      <td>Hotel Vitória Palace</td>\n    </tr>\n    <tr>\n      <th>3</th>\n      <td>24</td>\n      <td>Busselton</td>\n      <td>AU</td>\n      <td>79.00</td>\n      <td>clear sky</td>\n      <td>-33.6500</td>\n      <td>115.3333</td>\n      <td>Observatory Guest House</td>\n    </tr>\n    <tr>\n      <th>4</th>\n      <td>27</td>\n      <td>Bryan</td>\n      <td>US</td>\n      <td>71.60</td>\n      <td>clear sky</td>\n      <td>30.6744</td>\n      <td>-96.3700</td>\n      <td>Best Western Premier Bryan College Station</td>\n    </tr>\n  </tbody>\n</table>\n</div>"
     },
     "metadata": {},
     "execution_count": 5
    }
   ],
   "source": [
    "# 1. Read the WeatherPy_vacation.csv into a DataFrame.\n",
    "vacation_df = pd.read_csv(\"../Vacation_Search/WeatherPy_vacation.csv\")\n",
    "vacation_df.head()"
   ]
  },
  {
   "cell_type": "code",
   "execution_count": 7,
   "metadata": {},
   "outputs": [],
   "source": [
    "# 2. Using the template add the city name, the country code, the weather description and maximum temperature for the city.\n",
    "info_box_template = \"\"\"\n",
    "<dt><b>City</b></dt><dd>{City}</dd>\n",
    "<dt><b>Country</b></dt><dd>{Country}</dd>\n",
    "<dt><b>Current Weather</b></dt><dd>{Current Description} and {Max Temp} °F</dd>\n",
    "\"\"\"\n",
    "\n",
    "# 3a. Get the data from each row and add it to the formatting template and store the data in a list.\n",
    "hotel_info = [info_box_template.format(**row) for index, row in vacation_df.iterrows()]\n",
    "\n",
    "# 3b. Get the latitude and longitude from each row and store in a new DataFrame.\n",
    "locations = vacation_df[[\"Lat\", \"Lng\"]]"
   ]
  },
  {
   "cell_type": "code",
   "execution_count": 8,
   "metadata": {},
   "outputs": [
    {
     "output_type": "display_data",
     "data": {
      "text/plain": "Figure(layout=FigureLayout(height='420px'))",
      "application/vnd.jupyter.widget-view+json": {
       "version_major": 2,
       "version_minor": 0,
       "model_id": "250d4cf5be0346fe8191de44d0ab25f4"
      }
     },
     "metadata": {}
    }
   ],
   "source": [
    "# 4a. Add a marker layer for each city to the map.\n",
    "fig = gmaps.figure(center=(30.0, 31.0), zoom_level=1.5)\n",
    "marker_layer = gmaps.marker_layer(locations, info_box_content=hotel_info)\n",
    "fig.add_layer(marker_layer)\n",
    "# 4b. Display the figure\n",
    "fig"
   ]
  },
  {
   "cell_type": "code",
   "execution_count": 38,
   "metadata": {},
   "outputs": [],
   "source": [
    "# From the map above pick 4 cities and create a vacation itinerary route to travel between the four cities. \n",
    "# 5. Create DataFrames for each city by filtering the 'vacation_df' using the loc method. \n",
    "# Hint: The starting and ending city should be the same city.\n",
    "\n",
    "vacation_start = vacation_df.loc[(vacation_df[\"City\"] == \"Talara\")]\n",
    "vacation_end = vacation_df.loc[(vacation_df[\"City\"] == \"Talara\")]\n",
    "vacation_stop1 = vacation_df.loc[(vacation_df[\"City\"] == \"San Isidro\")]\n",
    "vacation_stop2 = vacation_df.loc[(vacation_df[\"City\"] == \"Santiago Del Estero\")] \n",
    "vacation_stop3 = vacation_df.loc[(vacation_df[\"City\"] == \"San Juan\")] "
   ]
  },
  {
   "cell_type": "code",
   "execution_count": 39,
   "metadata": {},
   "outputs": [],
   "source": [
    "# 6. Get the latitude-longitude pairs as tuples from each city DataFrame using the to_numpy function and list indexing.\n",
    "start = vacation_start.to_numpy()[0][5:7]\n",
    "end = vacation_end.to_numpy()[0][5:7]\n",
    "stop1 = vacation_stop1.to_numpy()[0][5:7]\n",
    "stop2 = vacation_stop2.to_numpy()[0][5:7]\n",
    "stop3 = vacation_stop3.to_numpy()[0][5:7]"
   ]
  },
  {
   "cell_type": "code",
   "execution_count": 40,
   "metadata": {
    "scrolled": true
   },
   "outputs": [
    {
     "output_type": "display_data",
     "data": {
      "text/plain": "Figure(layout=FigureLayout(height='420px'))",
      "application/vnd.jupyter.widget-view+json": {
       "version_major": 2,
       "version_minor": 0,
       "model_id": "85e6520d1ea6405294a0a426d0a689eb"
      }
     },
     "metadata": {}
    }
   ],
   "source": [
    "# 7. Create a direction layer map using the start and end latitude-longitude pairs,\n",
    "# and stop1, stop2, and stop3 as the waypoints. The travel_mode should be \"DRIVING\", \"BICYCLING\", or \"WALKING\".\n",
    "fig = gmaps.figure()\n",
    "vacation_trip = gmaps.directions_layer(start, end, waypoints=[stop1, stop2, stop3], travel_mode='DRIVING' or 'BICYCLING' or 'WALKING')\n",
    "fig.add_layer(vacation_trip)\n",
    "fig"
   ]
  },
  {
   "cell_type": "code",
   "execution_count": null,
   "metadata": {},
   "outputs": [],
   "source": []
  },
  {
   "cell_type": "code",
   "execution_count": 41,
   "metadata": {},
   "outputs": [
    {
     "output_type": "execute_result",
     "data": {
      "text/plain": [
       "   City_ID                 City Country  Max Temp Current Description  \\\n",
       "0      395               Talara      PE     75.81       broken clouds   \n",
       "1      361           San Isidro      PE     77.00           clear sky   \n",
       "2      456  Santiago Del Estero      AR     72.14          light rain   \n",
       "3      290             San Juan      AR     74.19     overcast clouds   \n",
       "\n",
       "       Lat      Lng                           Hotel Name  \n",
       "0  -4.5772 -81.2719                     Hostal Oro Negro  \n",
       "1 -12.1167 -77.0500  Radisson Hotel Decapolis Miraflores  \n",
       "2 -27.7951 -64.2615                         Hotel Urbano  \n",
       "3 -31.5375 -68.5364                     Hotel Provincial  "
      ],
      "text/html": "<div>\n<style scoped>\n    .dataframe tbody tr th:only-of-type {\n        vertical-align: middle;\n    }\n\n    .dataframe tbody tr th {\n        vertical-align: top;\n    }\n\n    .dataframe thead th {\n        text-align: right;\n    }\n</style>\n<table border=\"1\" class=\"dataframe\">\n  <thead>\n    <tr style=\"text-align: right;\">\n      <th></th>\n      <th>City_ID</th>\n      <th>City</th>\n      <th>Country</th>\n      <th>Max Temp</th>\n      <th>Current Description</th>\n      <th>Lat</th>\n      <th>Lng</th>\n      <th>Hotel Name</th>\n    </tr>\n  </thead>\n  <tbody>\n    <tr>\n      <th>0</th>\n      <td>395</td>\n      <td>Talara</td>\n      <td>PE</td>\n      <td>75.81</td>\n      <td>broken clouds</td>\n      <td>-4.5772</td>\n      <td>-81.2719</td>\n      <td>Hostal Oro Negro</td>\n    </tr>\n    <tr>\n      <th>1</th>\n      <td>361</td>\n      <td>San Isidro</td>\n      <td>PE</td>\n      <td>77.00</td>\n      <td>clear sky</td>\n      <td>-12.1167</td>\n      <td>-77.0500</td>\n      <td>Radisson Hotel Decapolis Miraflores</td>\n    </tr>\n    <tr>\n      <th>2</th>\n      <td>456</td>\n      <td>Santiago Del Estero</td>\n      <td>AR</td>\n      <td>72.14</td>\n      <td>light rain</td>\n      <td>-27.7951</td>\n      <td>-64.2615</td>\n      <td>Hotel Urbano</td>\n    </tr>\n    <tr>\n      <th>3</th>\n      <td>290</td>\n      <td>San Juan</td>\n      <td>AR</td>\n      <td>74.19</td>\n      <td>overcast clouds</td>\n      <td>-31.5375</td>\n      <td>-68.5364</td>\n      <td>Hotel Provincial</td>\n    </tr>\n  </tbody>\n</table>\n</div>"
     },
     "metadata": {},
     "execution_count": 41
    }
   ],
   "source": [
    "# 8. To create a marker layer map between the four cities.\n",
    "#  Combine the four city DataFrames into one DataFrame using the concat() function.\n",
    "itinerary_df = pd.concat([vacation_start, vacation_stop1, vacation_stop2, vacation_stop3],ignore_index=True)\n",
    "itinerary_df"
   ]
  },
  {
   "cell_type": "code",
   "execution_count": 47,
   "metadata": {},
   "outputs": [],
   "source": [
    "# 9 Using the template add city name, the country code, the weather description and maximum temperature for the city. \n",
    "info_box_template = \"\"\"\n",
    "<dt><b>Hotel Name</b></dt><dd>{Hotel Name}</dd>\n",
    "<dt><b>City</b></dt><dd>{City}</dd>\n",
    "<dt><b>Country</b></dt><dd>{Country}</dd>\n",
    "<dt><b>Current Weather</b></dt><dd>{Current Description} and {Max Temp} °F</dd>\n",
    "\"\"\"\n",
    "\n",
    "# 10a Get the data from each row and add it to the formatting template and store the data in a list.\n",
    "hotel_info = [info_box_template.format(**row) for index, row in itinerary_df.iterrows()]\n",
    "\n",
    "# 10b. Get the latitude and longitude from each row and store in a new DataFrame.\n",
    "locations = itinerary_df[[\"Lat\", \"Lng\"]]"
   ]
  },
  {
   "cell_type": "code",
   "execution_count": 48,
   "metadata": {},
   "outputs": [
    {
     "output_type": "display_data",
     "data": {
      "text/plain": "Figure(layout=FigureLayout(height='420px'))",
      "application/vnd.jupyter.widget-view+json": {
       "version_major": 2,
       "version_minor": 0,
       "model_id": "678f3d08c4694be58f17b52b9aef4bf3"
      }
     },
     "metadata": {}
    }
   ],
   "source": [
    "# 11a. Add a marker layer for each city to the map.\n",
    "fig = gmaps.figure()\n",
    "marker_layer = gmaps.marker_layer(locations, info_box_content=hotel_info)\n",
    "fig.add_layer(marker_layer)\n",
    "# 11b. Display the figure\n",
    "fig"
   ]
  },
  {
   "cell_type": "code",
   "execution_count": null,
   "metadata": {},
   "outputs": [],
   "source": []
  }
 ],
 "metadata": {
  "kernelspec": {
   "name": "python3",
   "display_name": "Python 3.9.1 64-bit ('PythonData': conda)",
   "metadata": {
    "interpreter": {
     "hash": "4002001ef6e2a303c87dba2eb78f9eb76c779823e87d5249817934f2b9d8562a"
    }
   }
  },
  "language_info": {
   "codemirror_mode": {
    "name": "ipython",
    "version": 3
   },
   "file_extension": ".py",
   "mimetype": "text/x-python",
   "name": "python",
   "nbconvert_exporter": "python",
   "pygments_lexer": "ipython3",
   "version": "3.9.1-final"
  },
  "latex_envs": {
   "LaTeX_envs_menu_present": true,
   "autoclose": false,
   "autocomplete": true,
   "bibliofile": "biblio.bib",
   "cite_by": "apalike",
   "current_citInitial": 1,
   "eqLabelWithNumbers": true,
   "eqNumInitial": 1,
   "hotkeys": {
    "equation": "Ctrl-E",
    "itemize": "Ctrl-I"
   },
   "labels_anchors": false,
   "latex_user_defs": false,
   "report_style_numbering": false,
   "user_envs_cfg": false
  }
 },
 "nbformat": 4,
 "nbformat_minor": 2
}