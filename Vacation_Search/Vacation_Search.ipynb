{
 "cells": [
  {
   "cell_type": "markdown",
   "metadata": {},
   "source": [
    "## Deliverable 2. Create a Customer Travel Destinations Map."
   ]
  },
  {
   "cell_type": "code",
   "execution_count": 1,
   "metadata": {},
   "outputs": [],
   "source": [
    "# Dependencies and Setup\n",
    "import pandas as pd\n",
    "import requests\n",
    "import gmaps\n",
    "\n",
    "# Import API key\n",
    "from config import g_key\n",
    "\n",
    "# Configure gmaps API key\n",
    "gmaps.configure(api_key=g_key)"
   ]
  },
  {
   "cell_type": "code",
   "execution_count": 2,
   "metadata": {},
   "outputs": [
    {
     "output_type": "execute_result",
     "data": {
      "text/plain": [
       "   City ID           City Country      Lat       Lng  Max Temp  Humidity  \\\n",
       "0        0         Dikson      RU  73.5069   80.5464    -34.28        80   \n",
       "1        1   Kruisfontein      ZA -34.0033   24.7314     60.01        90   \n",
       "2        2          Vaini      TO -21.2000 -175.2000     86.00        79   \n",
       "3        3   Punta Arenas      CL -53.1500  -70.9167     51.80        62   \n",
       "4        4  Mount Gambier      AU -37.8333  140.7667     64.40        59   \n",
       "\n",
       "   Cloudiness  Wind Speed Current Description  \n",
       "0           0        6.85           clear sky  \n",
       "1           0        3.51           clear sky  \n",
       "2          75       13.80       broken clouds  \n",
       "3           0       26.46           clear sky  \n",
       "4          75        8.05       broken clouds  "
      ],
      "text/html": "<div>\n<style scoped>\n    .dataframe tbody tr th:only-of-type {\n        vertical-align: middle;\n    }\n\n    .dataframe tbody tr th {\n        vertical-align: top;\n    }\n\n    .dataframe thead th {\n        text-align: right;\n    }\n</style>\n<table border=\"1\" class=\"dataframe\">\n  <thead>\n    <tr style=\"text-align: right;\">\n      <th></th>\n      <th>City ID</th>\n      <th>City</th>\n      <th>Country</th>\n      <th>Lat</th>\n      <th>Lng</th>\n      <th>Max Temp</th>\n      <th>Humidity</th>\n      <th>Cloudiness</th>\n      <th>Wind Speed</th>\n      <th>Current Description</th>\n    </tr>\n  </thead>\n  <tbody>\n    <tr>\n      <th>0</th>\n      <td>0</td>\n      <td>Dikson</td>\n      <td>RU</td>\n      <td>73.5069</td>\n      <td>80.5464</td>\n      <td>-34.28</td>\n      <td>80</td>\n      <td>0</td>\n      <td>6.85</td>\n      <td>clear sky</td>\n    </tr>\n    <tr>\n      <th>1</th>\n      <td>1</td>\n      <td>Kruisfontein</td>\n      <td>ZA</td>\n      <td>-34.0033</td>\n      <td>24.7314</td>\n      <td>60.01</td>\n      <td>90</td>\n      <td>0</td>\n      <td>3.51</td>\n      <td>clear sky</td>\n    </tr>\n    <tr>\n      <th>2</th>\n      <td>2</td>\n      <td>Vaini</td>\n      <td>TO</td>\n      <td>-21.2000</td>\n      <td>-175.2000</td>\n      <td>86.00</td>\n      <td>79</td>\n      <td>75</td>\n      <td>13.80</td>\n      <td>broken clouds</td>\n    </tr>\n    <tr>\n      <th>3</th>\n      <td>3</td>\n      <td>Punta Arenas</td>\n      <td>CL</td>\n      <td>-53.1500</td>\n      <td>-70.9167</td>\n      <td>51.80</td>\n      <td>62</td>\n      <td>0</td>\n      <td>26.46</td>\n      <td>clear sky</td>\n    </tr>\n    <tr>\n      <th>4</th>\n      <td>4</td>\n      <td>Mount Gambier</td>\n      <td>AU</td>\n      <td>-37.8333</td>\n      <td>140.7667</td>\n      <td>64.40</td>\n      <td>59</td>\n      <td>75</td>\n      <td>8.05</td>\n      <td>broken clouds</td>\n    </tr>\n  </tbody>\n</table>\n</div>"
     },
     "metadata": {},
     "execution_count": 2
    }
   ],
   "source": [
    "# 1. Import the WeatherPy_Database.csv file. \n",
    "city_data_df = pd.read_csv(\"../Weather_Database/WeatherPy_Database.csv\")\n",
    "city_data_df.head()"
   ]
  },
  {
   "cell_type": "code",
   "execution_count": 3,
   "metadata": {},
   "outputs": [],
   "source": [
    "# 2. Prompt the user to enter minimum and maximum temperature criteria \n",
    "min_temp = float(input(\"What is the minimum temperature you would like for your trip?\"))\n",
    "max_temp = float(input(\"What is the maximum temperature you would like for your trip?\"))"
   ]
  },
  {
   "cell_type": "code",
   "execution_count": 4,
   "metadata": {},
   "outputs": [
    {
     "output_type": "execute_result",
     "data": {
      "text/plain": [
       "154"
      ]
     },
     "metadata": {},
     "execution_count": 4
    }
   ],
   "source": [
    "# 3. Filter the city_data_df DataFrame using the input statements to create a new DataFrame using the loc method.\n",
    "preferred_cities_df = city_data_df.loc[(city_data_df[\"Max Temp\"] <= max_temp) & (city_data_df[\"Max Temp\"] >= min_temp)]\n",
    "len(preferred_cities_df)"
   ]
  },
  {
   "cell_type": "code",
   "execution_count": 5,
   "metadata": {},
   "outputs": [
    {
     "output_type": "execute_result",
     "data": {
      "text/plain": [
       "City ID                154\n",
       "City                   154\n",
       "Country                153\n",
       "Lat                    154\n",
       "Lng                    154\n",
       "Max Temp               154\n",
       "Humidity               154\n",
       "Cloudiness             154\n",
       "Wind Speed             154\n",
       "Current Description    154\n",
       "dtype: int64"
      ]
     },
     "metadata": {},
     "execution_count": 5
    }
   ],
   "source": [
    "# 4a. Determine if there are any empty rows.\n",
    "preferred_cities_df.count()"
   ]
  },
  {
   "cell_type": "code",
   "execution_count": 6,
   "metadata": {},
   "outputs": [],
   "source": [
    "# 4b. Drop any empty rows and create a new DataFrame that doesn’t have empty rows.\n",
    "# No empty rows"
   ]
  },
  {
   "cell_type": "code",
   "execution_count": 7,
   "metadata": {},
   "outputs": [
    {
     "output_type": "execute_result",
     "data": {
      "text/plain": [
       "              City Country  Max Temp Current Description      Lat       Lng  \\\n",
       "8          Mataura      NZ     71.98     overcast clouds -46.1927  168.8643   \n",
       "12   Daniel Flores      CR     70.14     overcast clouds   9.3355  -83.6694   \n",
       "18      Vila Velha      BR     78.80          few clouds -20.3297  -40.2925   \n",
       "24       Busselton      AU     79.00           clear sky -33.6500  115.3333   \n",
       "27           Bryan      US     71.60           clear sky  30.6744  -96.3700   \n",
       "32         Rikitea      PF     79.50           clear sky -23.1203 -134.9692   \n",
       "41    San Patricio      US     73.40          few clouds  28.0170  -97.5169   \n",
       "46  Cabo San Lucas      MX     72.00    scattered clouds  22.8909 -109.9124   \n",
       "56        Mabaruma      GY     74.64           clear sky   8.2000  -59.7833   \n",
       "58            Soyo      AO     79.68          light rain  -6.1349   12.3689   \n",
       "\n",
       "   Hotel Name  \n",
       "8              \n",
       "12             \n",
       "18             \n",
       "24             \n",
       "27             \n",
       "32             \n",
       "41             \n",
       "46             \n",
       "56             \n",
       "58             "
      ],
      "text/html": "<div>\n<style scoped>\n    .dataframe tbody tr th:only-of-type {\n        vertical-align: middle;\n    }\n\n    .dataframe tbody tr th {\n        vertical-align: top;\n    }\n\n    .dataframe thead th {\n        text-align: right;\n    }\n</style>\n<table border=\"1\" class=\"dataframe\">\n  <thead>\n    <tr style=\"text-align: right;\">\n      <th></th>\n      <th>City</th>\n      <th>Country</th>\n      <th>Max Temp</th>\n      <th>Current Description</th>\n      <th>Lat</th>\n      <th>Lng</th>\n      <th>Hotel Name</th>\n    </tr>\n  </thead>\n  <tbody>\n    <tr>\n      <th>8</th>\n      <td>Mataura</td>\n      <td>NZ</td>\n      <td>71.98</td>\n      <td>overcast clouds</td>\n      <td>-46.1927</td>\n      <td>168.8643</td>\n      <td></td>\n    </tr>\n    <tr>\n      <th>12</th>\n      <td>Daniel Flores</td>\n      <td>CR</td>\n      <td>70.14</td>\n      <td>overcast clouds</td>\n      <td>9.3355</td>\n      <td>-83.6694</td>\n      <td></td>\n    </tr>\n    <tr>\n      <th>18</th>\n      <td>Vila Velha</td>\n      <td>BR</td>\n      <td>78.80</td>\n      <td>few clouds</td>\n      <td>-20.3297</td>\n      <td>-40.2925</td>\n      <td></td>\n    </tr>\n    <tr>\n      <th>24</th>\n      <td>Busselton</td>\n      <td>AU</td>\n      <td>79.00</td>\n      <td>clear sky</td>\n      <td>-33.6500</td>\n      <td>115.3333</td>\n      <td></td>\n    </tr>\n    <tr>\n      <th>27</th>\n      <td>Bryan</td>\n      <td>US</td>\n      <td>71.60</td>\n      <td>clear sky</td>\n      <td>30.6744</td>\n      <td>-96.3700</td>\n      <td></td>\n    </tr>\n    <tr>\n      <th>32</th>\n      <td>Rikitea</td>\n      <td>PF</td>\n      <td>79.50</td>\n      <td>clear sky</td>\n      <td>-23.1203</td>\n      <td>-134.9692</td>\n      <td></td>\n    </tr>\n    <tr>\n      <th>41</th>\n      <td>San Patricio</td>\n      <td>US</td>\n      <td>73.40</td>\n      <td>few clouds</td>\n      <td>28.0170</td>\n      <td>-97.5169</td>\n      <td></td>\n    </tr>\n    <tr>\n      <th>46</th>\n      <td>Cabo San Lucas</td>\n      <td>MX</td>\n      <td>72.00</td>\n      <td>scattered clouds</td>\n      <td>22.8909</td>\n      <td>-109.9124</td>\n      <td></td>\n    </tr>\n    <tr>\n      <th>56</th>\n      <td>Mabaruma</td>\n      <td>GY</td>\n      <td>74.64</td>\n      <td>clear sky</td>\n      <td>8.2000</td>\n      <td>-59.7833</td>\n      <td></td>\n    </tr>\n    <tr>\n      <th>58</th>\n      <td>Soyo</td>\n      <td>AO</td>\n      <td>79.68</td>\n      <td>light rain</td>\n      <td>-6.1349</td>\n      <td>12.3689</td>\n      <td></td>\n    </tr>\n  </tbody>\n</table>\n</div>"
     },
     "metadata": {},
     "execution_count": 7
    }
   ],
   "source": [
    "# 5a. Create DataFrame called hotel_df to store hotel names along with city, country, max temp, and coordinates.\n",
    "hotel_df = preferred_cities_df[[\"City\", \"Country\", \"Max Temp\", \"Current Description\", \"Lat\", \"Lng\"]].copy()\n",
    "\n",
    "# 5b. Create a new column \"Hotel Name\"\n",
    "hotel_df[\"Hotel Name\"] = \"\"\n",
    "hotel_df.head(10)"
   ]
  },
  {
   "cell_type": "code",
   "execution_count": 8,
   "metadata": {},
   "outputs": [
    {
     "output_type": "stream",
     "name": "stdout",
     "text": [
      "Hotel not found... skipping.\n",
      "Hotel not found... skipping.\n",
      "Hotel not found... skipping.\n",
      "Hotel not found... skipping.\n",
      "Hotel not found... skipping.\n",
      "Hotel not found... skipping.\n",
      "Hotel not found... skipping.\n",
      "Hotel not found... skipping.\n",
      "Hotel not found... skipping.\n",
      "Hotel not found... skipping.\n",
      "Hotel not found... skipping.\n",
      "Finished\n"
     ]
    }
   ],
   "source": [
    "# 6a. Set parameters to search for hotels with 5000 meters.\n",
    "params = {\n",
    "    \"radius\": 5000,\n",
    "    \"type\": \"lodging\",\n",
    "    \"key\": g_key\n",
    "}\n",
    "\n",
    "# 6b. Iterate through the hotel DataFrame.\n",
    "for index, row in hotel_df.iterrows():\n",
    "    # 6c. Get latitude and longitude from DataFrame\n",
    "    lat = row[\"Lat\"]\n",
    "    lng = row[\"Lng\"]\n",
    "    # 6d. Set up the base URL for the Google Directions API to get JSON data.\n",
    "    base_url = \"https://maps.googleapis.com/maps/api/place/nearbysearch/json\"\n",
    "    params[\"location\"] = f\"{lat},{lng}\"\n",
    "    # 6e. Make request and retrieve the JSON data from the search. \n",
    "    hotels = requests.get(base_url, params=params).json()\n",
    "    # 6f. Get the first hotel from the results and store the name, if a hotel isn't found skip the city.\n",
    "    try:\n",
    "        hotel_df.loc[index, \"Hotel Name\"] = hotels['results'][0]['name']\n",
    "    except(IndexError):\n",
    "        #hotel_df.loc[index, \"Hotel Name\"] = \"\"\n",
    "        print(\"Hotel not found... skipping.\")\n",
    "print(\"Finished\")"
   ]
  },
  {
   "cell_type": "code",
   "execution_count": 14,
   "metadata": {},
   "outputs": [
    {
     "output_type": "execute_result",
     "data": {
      "text/plain": [
       "              City Country  Max Temp Current Description      Lat       Lng  \\\n",
       "8          Mataura      NZ     71.98     overcast clouds -46.1927  168.8643   \n",
       "12   Daniel Flores      CR     70.14     overcast clouds   9.3355  -83.6694   \n",
       "18      Vila Velha      BR     78.80          few clouds -20.3297  -40.2925   \n",
       "24       Busselton      AU     79.00           clear sky -33.6500  115.3333   \n",
       "27           Bryan      US     71.60           clear sky  30.6744  -96.3700   \n",
       "..             ...     ...       ...                 ...      ...       ...   \n",
       "662           Axim      GH     78.93       broken clouds   4.8699   -2.2405   \n",
       "674         Grajau      BR     72.88     overcast clouds  -5.8194  -46.1386   \n",
       "678    Port-Gentil      GA     77.68     overcast clouds  -0.7193    8.7815   \n",
       "680        Bolitoc      PH     74.62     overcast clouds  15.7395  119.8769   \n",
       "681        Bartica      GY     77.00       broken clouds   6.4000  -58.6167   \n",
       "\n",
       "                                     Hotel Name  \n",
       "8                                 Ellie's Villa  \n",
       "12                             Hotel San Isidro  \n",
       "18                         Hotel Vitória Palace  \n",
       "24                      Observatory Guest House  \n",
       "27   Best Western Premier Bryan College Station  \n",
       "..                                          ...  \n",
       "662                   AXIM BEACH RESORT AND SPA  \n",
       "674                             Hotel Confiança  \n",
       "678                          Fengshui Residence  \n",
       "680                 Seasun Beach Resort & Hotel  \n",
       "681                             Relax Inn Hotel  \n",
       "\n",
       "[143 rows x 7 columns]"
      ],
      "text/html": "<div>\n<style scoped>\n    .dataframe tbody tr th:only-of-type {\n        vertical-align: middle;\n    }\n\n    .dataframe tbody tr th {\n        vertical-align: top;\n    }\n\n    .dataframe thead th {\n        text-align: right;\n    }\n</style>\n<table border=\"1\" class=\"dataframe\">\n  <thead>\n    <tr style=\"text-align: right;\">\n      <th></th>\n      <th>City</th>\n      <th>Country</th>\n      <th>Max Temp</th>\n      <th>Current Description</th>\n      <th>Lat</th>\n      <th>Lng</th>\n      <th>Hotel Name</th>\n    </tr>\n  </thead>\n  <tbody>\n    <tr>\n      <th>8</th>\n      <td>Mataura</td>\n      <td>NZ</td>\n      <td>71.98</td>\n      <td>overcast clouds</td>\n      <td>-46.1927</td>\n      <td>168.8643</td>\n      <td>Ellie's Villa</td>\n    </tr>\n    <tr>\n      <th>12</th>\n      <td>Daniel Flores</td>\n      <td>CR</td>\n      <td>70.14</td>\n      <td>overcast clouds</td>\n      <td>9.3355</td>\n      <td>-83.6694</td>\n      <td>Hotel San Isidro</td>\n    </tr>\n    <tr>\n      <th>18</th>\n      <td>Vila Velha</td>\n      <td>BR</td>\n      <td>78.80</td>\n      <td>few clouds</td>\n      <td>-20.3297</td>\n      <td>-40.2925</td>\n      <td>Hotel Vitória Palace</td>\n    </tr>\n    <tr>\n      <th>24</th>\n      <td>Busselton</td>\n      <td>AU</td>\n      <td>79.00</td>\n      <td>clear sky</td>\n      <td>-33.6500</td>\n      <td>115.3333</td>\n      <td>Observatory Guest House</td>\n    </tr>\n    <tr>\n      <th>27</th>\n      <td>Bryan</td>\n      <td>US</td>\n      <td>71.60</td>\n      <td>clear sky</td>\n      <td>30.6744</td>\n      <td>-96.3700</td>\n      <td>Best Western Premier Bryan College Station</td>\n    </tr>\n    <tr>\n      <th>...</th>\n      <td>...</td>\n      <td>...</td>\n      <td>...</td>\n      <td>...</td>\n      <td>...</td>\n      <td>...</td>\n      <td>...</td>\n    </tr>\n    <tr>\n      <th>662</th>\n      <td>Axim</td>\n      <td>GH</td>\n      <td>78.93</td>\n      <td>broken clouds</td>\n      <td>4.8699</td>\n      <td>-2.2405</td>\n      <td>AXIM BEACH RESORT AND SPA</td>\n    </tr>\n    <tr>\n      <th>674</th>\n      <td>Grajau</td>\n      <td>BR</td>\n      <td>72.88</td>\n      <td>overcast clouds</td>\n      <td>-5.8194</td>\n      <td>-46.1386</td>\n      <td>Hotel Confiança</td>\n    </tr>\n    <tr>\n      <th>678</th>\n      <td>Port-Gentil</td>\n      <td>GA</td>\n      <td>77.68</td>\n      <td>overcast clouds</td>\n      <td>-0.7193</td>\n      <td>8.7815</td>\n      <td>Fengshui Residence</td>\n    </tr>\n    <tr>\n      <th>680</th>\n      <td>Bolitoc</td>\n      <td>PH</td>\n      <td>74.62</td>\n      <td>overcast clouds</td>\n      <td>15.7395</td>\n      <td>119.8769</td>\n      <td>Seasun Beach Resort &amp; Hotel</td>\n    </tr>\n    <tr>\n      <th>681</th>\n      <td>Bartica</td>\n      <td>GY</td>\n      <td>77.00</td>\n      <td>broken clouds</td>\n      <td>6.4000</td>\n      <td>-58.6167</td>\n      <td>Relax Inn Hotel</td>\n    </tr>\n  </tbody>\n</table>\n<p>143 rows × 7 columns</p>\n</div>"
     },
     "metadata": {},
     "execution_count": 14
    }
   ],
   "source": [
    "# 7. Drop the rows where there is no Hotel Name.\n",
    "clean_hotel_df = hotel_df.loc[(hotel_df['Hotel Name'] != \"\")]\n",
    "clean_hotel_df"
   ]
  },
  {
   "cell_type": "code",
   "execution_count": 15,
   "metadata": {},
   "outputs": [],
   "source": [
    "# 8a. Create the output File (CSV)\n",
    "output_data_file = \"WeatherPy_vacation.csv\"\n",
    "# 8b. Export the City_Data into a csv\n",
    "clean_hotel_df.to_csv(output_data_file, index_label=\"City_ID\")"
   ]
  },
  {
   "cell_type": "code",
   "execution_count": 28,
   "metadata": {},
   "outputs": [],
   "source": [
    "# 9. Using the template add city name, the country code, the weather description and maximum temperature for the city.\n",
    "info_box_template = \"\"\"\n",
    "<dt><b>Hotel Name</b></dt><dd>{Hotel Name}</dd>\n",
    "<dt><b>City</b></dt><dd>{City}</dd>\n",
    "<dt><b>Country</b></dt><dd>{Country}</dd>\n",
    "<dt><b>Current Weather</b></dt><dd>{Current Description} and {Max Temp} °F</dd>\n",
    "\"\"\"\n",
    "\n",
    "# 10a. Get the data from each row and add it to the formatting template and store the data in a list.\n",
    "hotel_info = [info_box_template.format(**row) for index, row in clean_hotel_df.iterrows()]\n",
    "\n",
    "# 10b. Get the latitude and longitude from each row and store in a new DataFrame.\n",
    "locations = clean_hotel_df[[\"Lat\", \"Lng\"]]"
   ]
  },
  {
   "cell_type": "code",
   "execution_count": 29,
   "metadata": {},
   "outputs": [
    {
     "output_type": "display_data",
     "data": {
      "text/plain": "Figure(layout=FigureLayout(height='420px'))",
      "application/vnd.jupyter.widget-view+json": {
       "version_major": 2,
       "version_minor": 0,
       "model_id": "92dac9610a794be1b9f847bdc598b4df"
      }
     },
     "metadata": {}
    }
   ],
   "source": [
    "# 11a. Add a marker layer for each city to the map. \n",
    "fig = gmaps.figure(center=(30.0, 31.0), zoom_level=1.5)\n",
    "marker_layer = gmaps.marker_layer(locations, info_box_content=hotel_info)\n",
    "fig.add_layer(marker_layer)\n",
    "# 11b. Display the figure\n",
    "fig"
   ]
  },
  {
   "cell_type": "code",
   "execution_count": null,
   "metadata": {},
   "outputs": [],
   "source": []
  },
  {
   "cell_type": "code",
   "execution_count": null,
   "metadata": {},
   "outputs": [],
   "source": []
  }
 ],
 "metadata": {
  "kernelspec": {
   "name": "python3",
   "display_name": "Python 3.9.1 64-bit ('PythonData': conda)",
   "metadata": {
    "interpreter": {
     "hash": "4002001ef6e2a303c87dba2eb78f9eb76c779823e87d5249817934f2b9d8562a"
    }
   }
  },
  "language_info": {
   "codemirror_mode": {
    "name": "ipython",
    "version": 3
   },
   "file_extension": ".py",
   "mimetype": "text/x-python",
   "name": "python",
   "nbconvert_exporter": "python",
   "pygments_lexer": "ipython3",
   "version": "3.9.1-final"
  },
  "latex_envs": {
   "LaTeX_envs_menu_present": true,
   "autoclose": false,
   "autocomplete": true,
   "bibliofile": "biblio.bib",
   "cite_by": "apalike",
   "current_citInitial": 1,
   "eqLabelWithNumbers": true,
   "eqNumInitial": 1,
   "hotkeys": {
    "equation": "Ctrl-E",
    "itemize": "Ctrl-I"
   },
   "labels_anchors": false,
   "latex_user_defs": false,
   "report_style_numbering": false,
   "user_envs_cfg": false
  }
 },
 "nbformat": 4,
 "nbformat_minor": 2
}