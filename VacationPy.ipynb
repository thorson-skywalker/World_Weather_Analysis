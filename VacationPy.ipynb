{
 "metadata": {
  "language_info": {
   "codemirror_mode": {
    "name": "ipython",
    "version": 3
   },
   "file_extension": ".py",
   "mimetype": "text/x-python",
   "name": "python",
   "nbconvert_exporter": "python",
   "pygments_lexer": "ipython3",
   "version": "3.8.5-final"
  },
  "orig_nbformat": 2,
  "kernelspec": {
   "name": "python3",
   "display_name": "Python 3",
   "language": "python"
  }
 },
 "nbformat": 4,
 "nbformat_minor": 2,
 "cells": [
  {
   "cell_type": "code",
   "execution_count": 1,
   "metadata": {},
   "outputs": [],
   "source": [
    "# Import the dependencies.\n",
    "import pandas as pd\n",
    "import gmaps\n",
    "import requests\n",
    "# Import the API key.\n",
    "from config import g_key"
   ]
  },
  {
   "cell_type": "code",
   "execution_count": 2,
   "metadata": {},
   "outputs": [
    {
     "output_type": "execute_result",
     "data": {
      "text/plain": [
       "   City_ID        City Country                 Date      Lat       Lng  \\\n",
       "0        0  Santa Rosa      PH  2021-01-27 21:52:05  14.3122  121.1114   \n",
       "1        1      Atuona      PF  2021-01-27 21:52:05  -9.8000 -139.0333   \n",
       "2        2  Codrington      AU  2021-01-27 21:52:06 -38.2667  141.9667   \n",
       "3        3     Rikitea      PF  2021-01-27 21:52:06 -23.1203 -134.9692   \n",
       "4        4        Naze      JP  2021-01-27 21:51:35  28.3667  129.4833   \n",
       "\n",
       "   Max Temp  Humidity  Cloudiness  Wind Speed  \n",
       "0     75.99       100          20        1.14  \n",
       "1     78.46        79           3       15.30  \n",
       "2     65.55        72          63       16.75  \n",
       "3     79.88        73          89       13.15  \n",
       "4     62.60        63          75       11.50  "
      ],
      "text/html": "<div>\n<style scoped>\n    .dataframe tbody tr th:only-of-type {\n        vertical-align: middle;\n    }\n\n    .dataframe tbody tr th {\n        vertical-align: top;\n    }\n\n    .dataframe thead th {\n        text-align: right;\n    }\n</style>\n<table border=\"1\" class=\"dataframe\">\n  <thead>\n    <tr style=\"text-align: right;\">\n      <th></th>\n      <th>City_ID</th>\n      <th>City</th>\n      <th>Country</th>\n      <th>Date</th>\n      <th>Lat</th>\n      <th>Lng</th>\n      <th>Max Temp</th>\n      <th>Humidity</th>\n      <th>Cloudiness</th>\n      <th>Wind Speed</th>\n    </tr>\n  </thead>\n  <tbody>\n    <tr>\n      <th>0</th>\n      <td>0</td>\n      <td>Santa Rosa</td>\n      <td>PH</td>\n      <td>2021-01-27 21:52:05</td>\n      <td>14.3122</td>\n      <td>121.1114</td>\n      <td>75.99</td>\n      <td>100</td>\n      <td>20</td>\n      <td>1.14</td>\n    </tr>\n    <tr>\n      <th>1</th>\n      <td>1</td>\n      <td>Atuona</td>\n      <td>PF</td>\n      <td>2021-01-27 21:52:05</td>\n      <td>-9.8000</td>\n      <td>-139.0333</td>\n      <td>78.46</td>\n      <td>79</td>\n      <td>3</td>\n      <td>15.30</td>\n    </tr>\n    <tr>\n      <th>2</th>\n      <td>2</td>\n      <td>Codrington</td>\n      <td>AU</td>\n      <td>2021-01-27 21:52:06</td>\n      <td>-38.2667</td>\n      <td>141.9667</td>\n      <td>65.55</td>\n      <td>72</td>\n      <td>63</td>\n      <td>16.75</td>\n    </tr>\n    <tr>\n      <th>3</th>\n      <td>3</td>\n      <td>Rikitea</td>\n      <td>PF</td>\n      <td>2021-01-27 21:52:06</td>\n      <td>-23.1203</td>\n      <td>-134.9692</td>\n      <td>79.88</td>\n      <td>73</td>\n      <td>89</td>\n      <td>13.15</td>\n    </tr>\n    <tr>\n      <th>4</th>\n      <td>4</td>\n      <td>Naze</td>\n      <td>JP</td>\n      <td>2021-01-27 21:51:35</td>\n      <td>28.3667</td>\n      <td>129.4833</td>\n      <td>62.60</td>\n      <td>63</td>\n      <td>75</td>\n      <td>11.50</td>\n    </tr>\n  </tbody>\n</table>\n</div>"
     },
     "metadata": {},
     "execution_count": 2
    }
   ],
   "source": [
    "# Store csv into a DataFrame\n",
    "city_data_df = pd.read_csv('weather_data/cities.csv')\n",
    "city_data_df.head()"
   ]
  },
  {
   "cell_type": "code",
   "execution_count": 3,
   "metadata": {},
   "outputs": [
    {
     "output_type": "execute_result",
     "data": {
      "text/plain": [
       "City_ID         int64\n",
       "City           object\n",
       "Country        object\n",
       "Date           object\n",
       "Lat           float64\n",
       "Lng           float64\n",
       "Max Temp      float64\n",
       "Humidity        int64\n",
       "Cloudiness      int64\n",
       "Wind Speed    float64\n",
       "dtype: object"
      ]
     },
     "metadata": {},
     "execution_count": 3
    }
   ],
   "source": [
    "city_data_df.dtypes"
   ]
  },
  {
   "cell_type": "code",
   "execution_count": 4,
   "metadata": {},
   "outputs": [],
   "source": [
    "# Configure gmaps to use my google API key\n",
    "gmaps.configure(api_key=g_key)"
   ]
  },
  {
   "cell_type": "code",
   "execution_count": 5,
   "metadata": {},
   "outputs": [],
   "source": [
    "# Get the maximum temperature.\n",
    "max_temp = city_data_df[\"Max Temp\"]\n",
    "temps = []\n",
    "for temp in max_temp:\n",
    "    temps.append(max(temp, 0))"
   ]
  },
  {
   "cell_type": "code",
   "execution_count": 12,
   "metadata": {},
   "outputs": [
    {
     "output_type": "display_data",
     "data": {
      "text/plain": "Figure(layout=FigureLayout(height='420px'))",
      "application/vnd.jupyter.widget-view+json": {
       "version_major": 2,
       "version_minor": 0,
       "model_id": "842cf7c44699461387fd65a38b3c2370"
      }
     },
     "metadata": {}
    }
   ],
   "source": [
    "# Heatmap of temperature\n",
    "fig = gmaps.figure(center=(30.0, 31.0), zoom_level=1.5)\n",
    "# Get the latitude and longitude.\n",
    "locations = city_data_df[[\"Lat\", \"Lng\"]]\n",
    "# Get the maximum temperature.\n",
    "max_temp = city_data_df[\"Max Temp\"]\n",
    "# Assign the figure variable.\n",
    "fig = gmaps.figure(center=(30.0, 31.0), zoom_level=1.5)\n",
    "# Assign the heatmap variable.\n",
    "heat_layer = gmaps.heatmap_layer(locations, weights=temps)\n",
    "# Add the heatmap layer.\n",
    "fig.add_layer(heat_layer)\n",
    "# Call the figure to plot the data.\n",
    "fig"
   ]
  },
  {
   "cell_type": "code",
   "execution_count": 11,
   "metadata": {},
   "outputs": [
    {
     "output_type": "display_data",
     "data": {
      "text/plain": "Figure(layout=FigureLayout(height='420px'))",
      "application/vnd.jupyter.widget-view+json": {
       "version_major": 2,
       "version_minor": 0,
       "model_id": "015592b660f94f46addcbb0e06063fd2"
      }
     },
     "metadata": {}
    }
   ],
   "source": [
    "# Heatmap of percent humidity\n",
    "locations = city_data_df[[\"Lat\", \"Lng\"]]\n",
    "humidity = city_data_df[\"Humidity\"]\n",
    "fig = gmaps.figure(center=(30.0, 31.0), zoom_level=1.5)\n",
    "heat_layer = gmaps.heatmap_layer(locations, weights=humidity, dissipating=False, max_intensity=300, point_radius=4)\n",
    "\n",
    "fig.add_layer(heat_layer)\n",
    "# Call the figure to plot the data.\n",
    "fig"
   ]
  },
  {
   "cell_type": "code",
   "execution_count": 14,
   "metadata": {},
   "outputs": [
    {
     "output_type": "display_data",
     "data": {
      "text/plain": "Figure(layout=FigureLayout(height='420px'))",
      "application/vnd.jupyter.widget-view+json": {
       "version_major": 2,
       "version_minor": 0,
       "model_id": "c585e51545184b118ef980eaf4fe5244"
      }
     },
     "metadata": {}
    }
   ],
   "source": [
    "# Heatmap of percent cloudiness\n",
    "locations = city_data_df[[\"Lat\", \"Lng\"]]\n",
    "clouds = city_data_df['Cloudiness']\n",
    "fig = gmaps.figure(center=(30.0, 31.0), zoom_level=1.5)\n",
    "heat_layer = gmaps.heatmap_layer(locations, weights=clouds, dissipating=False, max_intensity=300, point_radius=4)\n",
    "\n",
    "fig.add_layer(heat_layer)\n",
    "# Call the figure to plot the data.\n",
    "fig"
   ]
  },
  {
   "cell_type": "code",
   "execution_count": 15,
   "metadata": {},
   "outputs": [
    {
     "output_type": "display_data",
     "data": {
      "text/plain": "Figure(layout=FigureLayout(height='420px'))",
      "application/vnd.jupyter.widget-view+json": {
       "version_major": 2,
       "version_minor": 0,
       "model_id": "f7b02e14b2d842539cacb7404408c0d7"
      }
     },
     "metadata": {}
    }
   ],
   "source": [
    "# Heatmap of percent wind speed\n",
    "locations = city_data_df[[\"Lat\", \"Lng\"]]\n",
    "wind_speed = city_data_df[\"Wind Speed\"]\n",
    "fig = gmaps.figure(center=(30.0, 31.0), zoom_level=1.5)\n",
    "heat_layer = gmaps.heatmap_layer(locations, weights=wind_speed, dissipating=False, max_intensity=300, point_radius=4)\n",
    "\n",
    "fig.add_layer(heat_layer)\n",
    "# Call the figure to plot the data.\n",
    "fig"
   ]
  },
  {
   "cell_type": "code",
   "execution_count": 19,
   "metadata": {},
   "outputs": [],
   "source": [
    "# Ask the customer to add a minimum and maximum temperature value.\n",
    "min_temp = float(input(\"What is the minimum temperature you would like for your trip? \"))\n",
    "max_temp = float(input(\"What is the maximum temperature you would like for your trip? \"))"
   ]
  },
  {
   "cell_type": "code",
   "execution_count": 20,
   "metadata": {},
   "outputs": [
    {
     "output_type": "execute_result",
     "data": {
      "text/plain": [
       "    City_ID          City Country                 Date      Lat       Lng  \\\n",
       "0         0    Santa Rosa      PH  2021-01-27 21:52:05  14.3122  121.1114   \n",
       "1         1        Atuona      PF  2021-01-27 21:52:05  -9.8000 -139.0333   \n",
       "3         3       Rikitea      PF  2021-01-27 21:52:06 -23.1203 -134.9692   \n",
       "6         6   Panalingaan      PH  2021-01-27 21:52:07   8.7842  117.4231   \n",
       "15       15     Auriflama      BR  2021-01-27 21:52:15 -20.6856  -50.5547   \n",
       "16       16  Richards Bay      ZA  2021-01-27 21:52:16 -28.7830   32.0377   \n",
       "18       18       Samarai      PG  2021-01-27 21:48:47 -10.6167  150.6667   \n",
       "20       20  Raymondville      US  2021-01-27 21:52:16  26.4815  -97.7831   \n",
       "26       26         Surin      TH  2021-01-27 21:52:19  14.8818  103.4936   \n",
       "29       29         Kapaa      US  2021-01-27 21:52:20  22.0752 -159.3190   \n",
       "\n",
       "    Max Temp  Humidity  Cloudiness  Wind Speed  \n",
       "0      75.99       100          20        1.14  \n",
       "1      78.46        79           3       15.30  \n",
       "3      79.88        73          89       13.15  \n",
       "6      77.76        83         100        8.48  \n",
       "15     77.63        76          99        0.92  \n",
       "16     73.24        95         100        9.35  \n",
       "18     79.83        86          99        7.16  \n",
       "20     77.00        31           1       17.27  \n",
       "26     73.00        74          59        7.14  \n",
       "29     77.00        59          87        7.00  "
      ],
      "text/html": "<div>\n<style scoped>\n    .dataframe tbody tr th:only-of-type {\n        vertical-align: middle;\n    }\n\n    .dataframe tbody tr th {\n        vertical-align: top;\n    }\n\n    .dataframe thead th {\n        text-align: right;\n    }\n</style>\n<table border=\"1\" class=\"dataframe\">\n  <thead>\n    <tr style=\"text-align: right;\">\n      <th></th>\n      <th>City_ID</th>\n      <th>City</th>\n      <th>Country</th>\n      <th>Date</th>\n      <th>Lat</th>\n      <th>Lng</th>\n      <th>Max Temp</th>\n      <th>Humidity</th>\n      <th>Cloudiness</th>\n      <th>Wind Speed</th>\n    </tr>\n  </thead>\n  <tbody>\n    <tr>\n      <th>0</th>\n      <td>0</td>\n      <td>Santa Rosa</td>\n      <td>PH</td>\n      <td>2021-01-27 21:52:05</td>\n      <td>14.3122</td>\n      <td>121.1114</td>\n      <td>75.99</td>\n      <td>100</td>\n      <td>20</td>\n      <td>1.14</td>\n    </tr>\n    <tr>\n      <th>1</th>\n      <td>1</td>\n      <td>Atuona</td>\n      <td>PF</td>\n      <td>2021-01-27 21:52:05</td>\n      <td>-9.8000</td>\n      <td>-139.0333</td>\n      <td>78.46</td>\n      <td>79</td>\n      <td>3</td>\n      <td>15.30</td>\n    </tr>\n    <tr>\n      <th>3</th>\n      <td>3</td>\n      <td>Rikitea</td>\n      <td>PF</td>\n      <td>2021-01-27 21:52:06</td>\n      <td>-23.1203</td>\n      <td>-134.9692</td>\n      <td>79.88</td>\n      <td>73</td>\n      <td>89</td>\n      <td>13.15</td>\n    </tr>\n    <tr>\n      <th>6</th>\n      <td>6</td>\n      <td>Panalingaan</td>\n      <td>PH</td>\n      <td>2021-01-27 21:52:07</td>\n      <td>8.7842</td>\n      <td>117.4231</td>\n      <td>77.76</td>\n      <td>83</td>\n      <td>100</td>\n      <td>8.48</td>\n    </tr>\n    <tr>\n      <th>15</th>\n      <td>15</td>\n      <td>Auriflama</td>\n      <td>BR</td>\n      <td>2021-01-27 21:52:15</td>\n      <td>-20.6856</td>\n      <td>-50.5547</td>\n      <td>77.63</td>\n      <td>76</td>\n      <td>99</td>\n      <td>0.92</td>\n    </tr>\n    <tr>\n      <th>16</th>\n      <td>16</td>\n      <td>Richards Bay</td>\n      <td>ZA</td>\n      <td>2021-01-27 21:52:16</td>\n      <td>-28.7830</td>\n      <td>32.0377</td>\n      <td>73.24</td>\n      <td>95</td>\n      <td>100</td>\n      <td>9.35</td>\n    </tr>\n    <tr>\n      <th>18</th>\n      <td>18</td>\n      <td>Samarai</td>\n      <td>PG</td>\n      <td>2021-01-27 21:48:47</td>\n      <td>-10.6167</td>\n      <td>150.6667</td>\n      <td>79.83</td>\n      <td>86</td>\n      <td>99</td>\n      <td>7.16</td>\n    </tr>\n    <tr>\n      <th>20</th>\n      <td>20</td>\n      <td>Raymondville</td>\n      <td>US</td>\n      <td>2021-01-27 21:52:16</td>\n      <td>26.4815</td>\n      <td>-97.7831</td>\n      <td>77.00</td>\n      <td>31</td>\n      <td>1</td>\n      <td>17.27</td>\n    </tr>\n    <tr>\n      <th>26</th>\n      <td>26</td>\n      <td>Surin</td>\n      <td>TH</td>\n      <td>2021-01-27 21:52:19</td>\n      <td>14.8818</td>\n      <td>103.4936</td>\n      <td>73.00</td>\n      <td>74</td>\n      <td>59</td>\n      <td>7.14</td>\n    </tr>\n    <tr>\n      <th>29</th>\n      <td>29</td>\n      <td>Kapaa</td>\n      <td>US</td>\n      <td>2021-01-27 21:52:20</td>\n      <td>22.0752</td>\n      <td>-159.3190</td>\n      <td>77.00</td>\n      <td>59</td>\n      <td>87</td>\n      <td>7.00</td>\n    </tr>\n  </tbody>\n</table>\n</div>"
     },
     "metadata": {},
     "execution_count": 20
    }
   ],
   "source": [
    "# Filter the dataset to find the cities that fit the criteria.\n",
    "preferred_cities_df = city_data_df.loc[(city_data_df[\"Max Temp\"] <= max_temp) & (city_data_df[\"Max Temp\"] >= min_temp)]\n",
    "preferred_cities_df.head(10)"
   ]
  },
  {
   "cell_type": "code",
   "execution_count": 21,
   "metadata": {},
   "outputs": [
    {
     "output_type": "execute_result",
     "data": {
      "text/plain": [
       "City_ID       145\n",
       "City          145\n",
       "Country       145\n",
       "Date          145\n",
       "Lat           145\n",
       "Lng           145\n",
       "Max Temp      145\n",
       "Humidity      145\n",
       "Cloudiness    145\n",
       "Wind Speed    145\n",
       "dtype: int64"
      ]
     },
     "metadata": {},
     "execution_count": 21
    }
   ],
   "source": [
    "preferred_cities_df.count()"
   ]
  },
  {
   "cell_type": "code",
   "execution_count": 22,
   "metadata": {},
   "outputs": [
    {
     "output_type": "execute_result",
     "data": {
      "text/plain": [
       "            City Country  Max Temp      Lat       Lng Hotel Name\n",
       "0     Santa Rosa      PH     75.99  14.3122  121.1114           \n",
       "1         Atuona      PF     78.46  -9.8000 -139.0333           \n",
       "3        Rikitea      PF     79.88 -23.1203 -134.9692           \n",
       "6    Panalingaan      PH     77.76   8.7842  117.4231           \n",
       "15     Auriflama      BR     77.63 -20.6856  -50.5547           \n",
       "16  Richards Bay      ZA     73.24 -28.7830   32.0377           \n",
       "18       Samarai      PG     79.83 -10.6167  150.6667           \n",
       "20  Raymondville      US     77.00  26.4815  -97.7831           \n",
       "26         Surin      TH     73.00  14.8818  103.4936           \n",
       "29         Kapaa      US     77.00  22.0752 -159.3190           "
      ],
      "text/html": "<div>\n<style scoped>\n    .dataframe tbody tr th:only-of-type {\n        vertical-align: middle;\n    }\n\n    .dataframe tbody tr th {\n        vertical-align: top;\n    }\n\n    .dataframe thead th {\n        text-align: right;\n    }\n</style>\n<table border=\"1\" class=\"dataframe\">\n  <thead>\n    <tr style=\"text-align: right;\">\n      <th></th>\n      <th>City</th>\n      <th>Country</th>\n      <th>Max Temp</th>\n      <th>Lat</th>\n      <th>Lng</th>\n      <th>Hotel Name</th>\n    </tr>\n  </thead>\n  <tbody>\n    <tr>\n      <th>0</th>\n      <td>Santa Rosa</td>\n      <td>PH</td>\n      <td>75.99</td>\n      <td>14.3122</td>\n      <td>121.1114</td>\n      <td></td>\n    </tr>\n    <tr>\n      <th>1</th>\n      <td>Atuona</td>\n      <td>PF</td>\n      <td>78.46</td>\n      <td>-9.8000</td>\n      <td>-139.0333</td>\n      <td></td>\n    </tr>\n    <tr>\n      <th>3</th>\n      <td>Rikitea</td>\n      <td>PF</td>\n      <td>79.88</td>\n      <td>-23.1203</td>\n      <td>-134.9692</td>\n      <td></td>\n    </tr>\n    <tr>\n      <th>6</th>\n      <td>Panalingaan</td>\n      <td>PH</td>\n      <td>77.76</td>\n      <td>8.7842</td>\n      <td>117.4231</td>\n      <td></td>\n    </tr>\n    <tr>\n      <th>15</th>\n      <td>Auriflama</td>\n      <td>BR</td>\n      <td>77.63</td>\n      <td>-20.6856</td>\n      <td>-50.5547</td>\n      <td></td>\n    </tr>\n    <tr>\n      <th>16</th>\n      <td>Richards Bay</td>\n      <td>ZA</td>\n      <td>73.24</td>\n      <td>-28.7830</td>\n      <td>32.0377</td>\n      <td></td>\n    </tr>\n    <tr>\n      <th>18</th>\n      <td>Samarai</td>\n      <td>PG</td>\n      <td>79.83</td>\n      <td>-10.6167</td>\n      <td>150.6667</td>\n      <td></td>\n    </tr>\n    <tr>\n      <th>20</th>\n      <td>Raymondville</td>\n      <td>US</td>\n      <td>77.00</td>\n      <td>26.4815</td>\n      <td>-97.7831</td>\n      <td></td>\n    </tr>\n    <tr>\n      <th>26</th>\n      <td>Surin</td>\n      <td>TH</td>\n      <td>73.00</td>\n      <td>14.8818</td>\n      <td>103.4936</td>\n      <td></td>\n    </tr>\n    <tr>\n      <th>29</th>\n      <td>Kapaa</td>\n      <td>US</td>\n      <td>77.00</td>\n      <td>22.0752</td>\n      <td>-159.3190</td>\n      <td></td>\n    </tr>\n  </tbody>\n</table>\n</div>"
     },
     "metadata": {},
     "execution_count": 22
    }
   ],
   "source": [
    "# Create DataFrame called hotel_df to store hotel names along with city, country, max temp, and coordinates.\n",
    "hotel_df = preferred_cities_df[[\"City\", \"Country\", \"Max Temp\", \"Lat\", \"Lng\"]].copy()\n",
    "hotel_df[\"Hotel Name\"] = \"\"\n",
    "hotel_df.head(10)"
   ]
  },
  {
   "cell_type": "code",
   "execution_count": 25,
   "metadata": {},
   "outputs": [],
   "source": [
    "# Set paramaters to search for hotel\n",
    "params = {\n",
    "    \"radius\" : 5000,\n",
    "    \"type\" : \"lodging\",\n",
    "    \"key\" : g_key\n",
    "}"
   ]
  },
  {
   "cell_type": "code",
   "execution_count": 31,
   "metadata": {},
   "outputs": [
    {
     "output_type": "stream",
     "name": "stdout",
     "text": [
      "Hotel not found... skipping.\n",
      "Hotel not found... skipping.\n",
      "Hotel not found... skipping.\n",
      "Hotel not found... skipping.\n",
      "Hotel not found... skipping.\n",
      "Hotel not found... skipping.\n",
      "Hotel not found... skipping.\n",
      "Hotel not found... skipping.\n"
     ]
    }
   ],
   "source": [
    "# Iterate throught the dataframe\n",
    "for index, row in hotel_df.iterrows():\n",
    "    # Get lat and lng\n",
    "    lat = row[\"Lat\"]\n",
    "    lng = row[\"Lng\"]\n",
    "\n",
    "    # Add the lat and lng to params to dictionary\n",
    "    params[\"location\"] = f\"{lat},{lng}\"\n",
    "\n",
    "    # use the search term: \"lodgning\" and our lat and lng\n",
    "    base_url = \"https://maps.googleapis.com/maps/api/place/nearbysearch/json\"\n",
    "    # Make request and get the JSON data from the search\n",
    "    hotels = requests.get(base_url, params=params).json()\n",
    "    #Grab the first hotel from the results and store the name.\n",
    "    try:\n",
    "        hotel_df.loc[index, \"Hotel Name\"] = hotels['results'][0]['name']\n",
    "    except(IndexError):\n",
    "        print(\"Hotel not found... skipping.\")"
   ]
  },
  {
   "cell_type": "code",
   "execution_count": 33,
   "metadata": {},
   "outputs": [
    {
     "output_type": "execute_result",
     "data": {
      "text/plain": [
       "            City Country  Max Temp      Lat       Lng  \\\n",
       "0     Santa Rosa      PH     75.99  14.3122  121.1114   \n",
       "1         Atuona      PF     78.46  -9.8000 -139.0333   \n",
       "3        Rikitea      PF     79.88 -23.1203 -134.9692   \n",
       "6    Panalingaan      PH     77.76   8.7842  117.4231   \n",
       "15     Auriflama      BR     77.63 -20.6856  -50.5547   \n",
       "16  Richards Bay      ZA     73.24 -28.7830   32.0377   \n",
       "18       Samarai      PG     79.83 -10.6167  150.6667   \n",
       "20  Raymondville      US     77.00  26.4815  -97.7831   \n",
       "26         Surin      TH     73.00  14.8818  103.4936   \n",
       "29         Kapaa      US     77.00  22.0752 -159.3190   \n",
       "\n",
       "                                        Hotel Name  \n",
       "0                       Erlyn’s Sta Rosa City Home  \n",
       "1                                      Villa Enata  \n",
       "3                                   Pension Maro'i  \n",
       "6                     I Love Panalingaan View Deck  \n",
       "15                                  Capoia´s Hotel  \n",
       "16               BON Hotel Waterfront Richards Bay  \n",
       "18                                       Nuli Sapi  \n",
       "20  La Quinta Inn & Suites by Wyndham Raymondville  \n",
       "26                                    One Fu Hotel  \n",
       "29          Sheraton Kauai Resort at Coconut Beach  "
      ],
      "text/html": "<div>\n<style scoped>\n    .dataframe tbody tr th:only-of-type {\n        vertical-align: middle;\n    }\n\n    .dataframe tbody tr th {\n        vertical-align: top;\n    }\n\n    .dataframe thead th {\n        text-align: right;\n    }\n</style>\n<table border=\"1\" class=\"dataframe\">\n  <thead>\n    <tr style=\"text-align: right;\">\n      <th></th>\n      <th>City</th>\n      <th>Country</th>\n      <th>Max Temp</th>\n      <th>Lat</th>\n      <th>Lng</th>\n      <th>Hotel Name</th>\n    </tr>\n  </thead>\n  <tbody>\n    <tr>\n      <th>0</th>\n      <td>Santa Rosa</td>\n      <td>PH</td>\n      <td>75.99</td>\n      <td>14.3122</td>\n      <td>121.1114</td>\n      <td>Erlyn’s Sta Rosa City Home</td>\n    </tr>\n    <tr>\n      <th>1</th>\n      <td>Atuona</td>\n      <td>PF</td>\n      <td>78.46</td>\n      <td>-9.8000</td>\n      <td>-139.0333</td>\n      <td>Villa Enata</td>\n    </tr>\n    <tr>\n      <th>3</th>\n      <td>Rikitea</td>\n      <td>PF</td>\n      <td>79.88</td>\n      <td>-23.1203</td>\n      <td>-134.9692</td>\n      <td>Pension Maro'i</td>\n    </tr>\n    <tr>\n      <th>6</th>\n      <td>Panalingaan</td>\n      <td>PH</td>\n      <td>77.76</td>\n      <td>8.7842</td>\n      <td>117.4231</td>\n      <td>I Love Panalingaan View Deck</td>\n    </tr>\n    <tr>\n      <th>15</th>\n      <td>Auriflama</td>\n      <td>BR</td>\n      <td>77.63</td>\n      <td>-20.6856</td>\n      <td>-50.5547</td>\n      <td>Capoia´s Hotel</td>\n    </tr>\n    <tr>\n      <th>16</th>\n      <td>Richards Bay</td>\n      <td>ZA</td>\n      <td>73.24</td>\n      <td>-28.7830</td>\n      <td>32.0377</td>\n      <td>BON Hotel Waterfront Richards Bay</td>\n    </tr>\n    <tr>\n      <th>18</th>\n      <td>Samarai</td>\n      <td>PG</td>\n      <td>79.83</td>\n      <td>-10.6167</td>\n      <td>150.6667</td>\n      <td>Nuli Sapi</td>\n    </tr>\n    <tr>\n      <th>20</th>\n      <td>Raymondville</td>\n      <td>US</td>\n      <td>77.00</td>\n      <td>26.4815</td>\n      <td>-97.7831</td>\n      <td>La Quinta Inn &amp; Suites by Wyndham Raymondville</td>\n    </tr>\n    <tr>\n      <th>26</th>\n      <td>Surin</td>\n      <td>TH</td>\n      <td>73.00</td>\n      <td>14.8818</td>\n      <td>103.4936</td>\n      <td>One Fu Hotel</td>\n    </tr>\n    <tr>\n      <th>29</th>\n      <td>Kapaa</td>\n      <td>US</td>\n      <td>77.00</td>\n      <td>22.0752</td>\n      <td>-159.3190</td>\n      <td>Sheraton Kauai Resort at Coconut Beach</td>\n    </tr>\n  </tbody>\n</table>\n</div>"
     },
     "metadata": {},
     "execution_count": 33
    }
   ],
   "source": [
    "hotel_df.head(10)"
   ]
  },
  {
   "cell_type": "code",
   "execution_count": 35,
   "metadata": {},
   "outputs": [
    {
     "output_type": "display_data",
     "data": {
      "text/plain": "Figure(layout=FigureLayout(height='420px'))",
      "application/vnd.jupyter.widget-view+json": {
       "version_major": 2,
       "version_minor": 0,
       "model_id": "5db3c597f5164249b45414a9b096210f"
      }
     },
     "metadata": {}
    }
   ],
   "source": [
    "# Add a heatmap of temperature for the vacation spots and marker for each city.\n",
    "locations = hotel_df[[\"Lat\", \"Lng\"]]\n",
    "max_temp = hotel_df[\"Max Temp\"]\n",
    "fig = gmaps.figure(center=(30.0, 31.0), zoom_level=1.5)\n",
    "heat_layer = gmaps.heatmap_layer(locations, weights=max_temp,\n",
    "             dissipating=False, max_intensity=300, point_radius=4)\n",
    "marker_layer = gmaps.marker_layer(locations)\n",
    "fig.add_layer(heat_layer)\n",
    "fig.add_layer(marker_layer)\n",
    "# Call the figure to plot the data.\n",
    "fig"
   ]
  },
  {
   "cell_type": "code",
   "execution_count": 36,
   "metadata": {},
   "outputs": [],
   "source": [
    "info_box_template = \"\"\"\n",
    "<dl>\n",
    "<dt>Hotel Name</dt><dd>{Hotel Name}</dd>\n",
    "<dt>City</dt><dd>{City}</dd>\n",
    "<dt>Country</dt><dd>{Country}</dd>\n",
    "<dt>Max Temp</dt><dd>{Max Temp} °F</dd>\n",
    "</dl>\n",
    "\"\"\"\n",
    "\n",
    "# Store the DataFrame row\n",
    "hotel_info = [info_box_template.format(**row) for index, row in hotel_df.iterrows()]"
   ]
  },
  {
   "cell_type": "code",
   "execution_count": 37,
   "metadata": {},
   "outputs": [
    {
     "output_type": "display_data",
     "data": {
      "text/plain": "Figure(layout=FigureLayout(height='420px'))",
      "application/vnd.jupyter.widget-view+json": {
       "version_major": 2,
       "version_minor": 0,
       "model_id": "3235826e54204750b1cb997b64c7306c"
      }
     },
     "metadata": {}
    }
   ],
   "source": [
    "# Add a heatmap of temperature for the vacation spots and marker for each city.\n",
    "locations = hotel_df[[\"Lat\", \"Lng\"]]\n",
    "max_temp = hotel_df[\"Max Temp\"]\n",
    "fig = gmaps.figure(center=(30.0, 31.0), zoom_level=1.5)\n",
    "heat_layer = gmaps.heatmap_layer(locations, weights=max_temp,\n",
    "             dissipating=False, max_intensity=300, point_radius=4)\n",
    "marker_layer = gmaps.marker_layer(locations, info_box_content=hotel_info)\n",
    "fig.add_layer(heat_layer)\n",
    "fig.add_layer(marker_layer)\n",
    "# Call the figure to plot the data.\n",
    "fig"
   ]
  },
  {
   "cell_type": "code",
   "execution_count": null,
   "metadata": {},
   "outputs": [],
   "source": []
  }
 ]
}